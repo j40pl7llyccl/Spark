{
 "cells": [
  {
   "cell_type": "markdown",
   "metadata": {},
   "source": [
    "### has more interesting about 空資料"
   ]
  },
  {
   "cell_type": "markdown",
   "metadata": {},
   "source": [
    "# Accumulators Variables"
   ]
  },
  {
   "cell_type": "code",
   "execution_count": 237,
   "metadata": {},
   "outputs": [],
   "source": [
    "from pyspark import SparkConf, SparkContext\n",
    "conf = SparkConf().setMaster(\"local\").setAppName(\"My App\") #local ==> to local 執行續\n",
    "sc = SparkContext(conf = conf)\n",
    "fileRDD = sc.textFile(\"/home/jordan/Desktop/callsign_tbl_sorted\")"
   ]
  },
  {
   "cell_type": "code",
   "execution_count": 241,
   "metadata": {},
   "outputs": [],
   "source": [
    "#build a accumulator[Int],and init to 0\n",
    "blankLines = sc.accumulator(0)"
   ]
  },
  {
   "cell_type": "code",
   "execution_count": 242,
   "metadata": {},
   "outputs": [
    {
     "data": {
      "text/plain": [
       "Accumulator<id=40, value=0>"
      ]
     },
     "execution_count": 242,
     "metadata": {},
     "output_type": "execute_result"
    }
   ],
   "source": [
    "blankLines"
   ]
  },
  {
   "cell_type": "code",
   "execution_count": 243,
   "metadata": {},
   "outputs": [],
   "source": [
    "def extractCallSigns(line):\n",
    "    global blankLines\n",
    "    if (line==\"\"):\n",
    "        blankLines += 1\n",
    "    return line.split(\" \")\n",
    "        "
   ]
  },
  {
   "cell_type": "code",
   "execution_count": 244,
   "metadata": {},
   "outputs": [],
   "source": [
    "callSigns = fileRDD.flatMap(extractCallSigns) #flatMap() Lazy操作"
   ]
  },
  {
   "cell_type": "code",
   "execution_count": 245,
   "metadata": {},
   "outputs": [],
   "source": [
    "callSigns.saveAsTextFile(\"/home/jordan/Desktop\"+\"/callsigns\")"
   ]
  },
  {
   "cell_type": "code",
   "execution_count": 246,
   "metadata": {},
   "outputs": [
    {
     "name": "stdout",
     "output_type": "stream",
     "text": [
      "Blank lines: 0\n"
     ]
    }
   ],
   "source": [
    "print \"Blank lines: %d\"%blankLines.value"
   ]
  },
  {
   "cell_type": "code",
   "execution_count": 236,
   "metadata": {},
   "outputs": [],
   "source": [
    "sc.stop()"
   ]
  },
  {
   "cell_type": "markdown",
   "metadata": {},
   "source": [
    "### 在工作節點不能讀取累加器的value(),=>累加器是write-only"
   ]
  },
  {
   "cell_type": "code",
   "execution_count": null,
   "metadata": {},
   "outputs": [],
   "source": []
  },
  {
   "cell_type": "markdown",
   "metadata": {},
   "source": [
    "### 錯誤累加器"
   ]
  },
  {
   "cell_type": "code",
   "execution_count": 247,
   "metadata": {},
   "outputs": [],
   "source": [
    "validSignCount = sc.accumulator(0)\n",
    "invalidSignCount = sc.accumulator(0)\n",
    "import re"
   ]
  },
  {
   "cell_type": "code",
   "execution_count": 248,
   "metadata": {},
   "outputs": [],
   "source": [
    "def validataSign(sign):\n",
    "    global validSignCount, invalidSignCount\n",
    "    if re.match(r\"\\A\\d?[a-zA-Z]{1,2}\\d{1,4}[a-zA-Z]{1-3}\\Z\", sign):\n",
    "        validSignCount += 1\n",
    "        return True\n",
    "    else:\n",
    "        invalidSignCount\n",
    "        return False\n",
    "    "
   ]
  },
  {
   "cell_type": "code",
   "execution_count": 249,
   "metadata": {},
   "outputs": [],
   "source": [
    "#对与每个呼号的联系次数进行计数\n",
    "validSigns = callSigns.filter(validateSign)\n",
    "contactCounts = validSigns.map(lambda sign: (sign, 1)).reduceByKey((lambda x, y: x + y))"
   ]
  },
  {
   "cell_type": "code",
   "execution_count": 171,
   "metadata": {},
   "outputs": [],
   "source": []
  },
  {
   "cell_type": "code",
   "execution_count": 250,
   "metadata": {},
   "outputs": [
    {
     "data": {
      "text/plain": [
       "0"
      ]
     },
     "execution_count": 250,
     "metadata": {},
     "output_type": "execute_result"
    }
   ],
   "source": [
    "#強迫評估已產生計數值\n",
    "contactCounts.count()"
   ]
  },
  {
   "cell_type": "code",
   "execution_count": 251,
   "metadata": {},
   "outputs": [
    {
     "data": {
      "text/plain": [
       "int"
      ]
     },
     "execution_count": 251,
     "metadata": {},
     "output_type": "execute_result"
    }
   ],
   "source": [
    "invalidSignCount.value\n",
    "type(validSignCount.value)"
   ]
  },
  {
   "cell_type": "code",
   "execution_count": 252,
   "metadata": {},
   "outputs": [
    {
     "name": "stdout",
     "output_type": "stream",
     "text": [
      "Too many errors 0 in 0\n"
     ]
    }
   ],
   "source": [
    "#強迫評估已產生計數值\n",
    "\n",
    "contactCounts.count()\n",
    "if invalidSignCount.value < 0.1 * validSignCount.value:\n",
    "    contactCounts.saveAsTextFile(outputDir + \"/contactCount\")\n",
    "else:\n",
    "    print (\"Too many errors %d in %d\" %\n",
    "           (invalidSignCount.value, validSignCount.value))"
   ]
  },
  {
   "cell_type": "markdown",
   "metadata": {},
   "source": [
    "### 根據叢集的情況,同樣的資料可能會進行多次的訪問 =>在行動中發生時執行累加器,所以Spark在每個子工作中對累加器的更新只會有一次,=>在轉換操作中使用累加器實務上只能用來除錯。"
   ]
  },
  {
   "cell_type": "code",
   "execution_count": 158,
   "metadata": {},
   "outputs": [],
   "source": [
    "sc.stop()"
   ]
  },
  {
   "cell_type": "markdown",
   "metadata": {},
   "source": [
    "# Broadcast Variables"
   ]
  },
  {
   "cell_type": "markdown",
   "metadata": {},
   "source": [
    "### 允與程式有效率的傳送大型且 read 的數值到所有運算節點進行一次,或是多次的操作"
   ]
  },
  {
   "cell_type": "code",
   "execution_count": 253,
   "metadata": {},
   "outputs": [],
   "source": [
    "def loadCallSignTable():\n",
    "    f = open(\"/home/jordan/Desktop/callsign_tbl_sorted\", \"r\")\n",
    "    return f.readlines()\n",
    "def lookupCountry(sign, prefixes):\n",
    "    pos = bisect.bisect_left(prefixes, sign)\n",
    "    return prefixes[pos].split(\",\")[1]"
   ]
  },
  {
   "cell_type": "code",
   "execution_count": 254,
   "metadata": {},
   "outputs": [],
   "source": [
    " #在Python中使用广播变量来查询国家\n",
    " #查询RDD contactCounts中的呼号的对应位置，将呼号前缀读取为国家前缀来进行查询\n",
    "\n",
    "signPrefixes = sc.broadcast(loadCallSignTable())\n",
    "  \n",
    "def processSignCount(sign_count, signPrefixes):\n",
    "    country = lookupCountry(sign_count[0], signPrefixes.value)\n",
    "    count = sign_count[1]\n",
    "    return (country, count)\n",
    " \n",
    "countryContactCounts = (contactCounts\n",
    "                        .map(lambda signCount: processSignCount(signCount, signPrefixes))\n",
    "                        .reduceByKey((lambda x, y: x + y)))"
   ]
  },
  {
   "cell_type": "code",
   "execution_count": 263,
   "metadata": {},
   "outputs": [
    {
     "data": {
      "text/plain": [
       "0"
      ]
     },
     "execution_count": 263,
     "metadata": {},
     "output_type": "execute_result"
    }
   ],
   "source": [
    "countryContactCounts.count()"
   ]
  },
  {
   "cell_type": "markdown",
   "metadata": {},
   "source": [
    "### pre-partition=>避免為每份分割重複進行工作"
   ]
  },
  {
   "cell_type": "markdown",
   "metadata": {},
   "source": [
    "### Python 共享連線池"
   ]
  },
  {
   "cell_type": "code",
   "execution_count": 258,
   "metadata": {},
   "outputs": [],
   "source": [
    "def processCallSigns(signs):\n",
    "    \"\"\"Lookup call signs using a connection pool\"\"\"\n",
    "    # Create a connection pool\n",
    "    http = urllib3.PoolManager()\n",
    "    # the URL associated with each call sign record\n",
    "    urls = map(lambda x: \"http://73s.com/qsos/%s.json\" % x, signs)\n",
    "    # create the requests (non-blocking)\n",
    "    requests = map(lambda x: (x, http.request('GET', x)), urls)\n",
    "    # fetch the results\n",
    "    result = map(lambda x: (x[0], json.loads(x[1].data)), requests)\n",
    "    # remove any empty results and return\n",
    "    return filter(lambda x: x[1] is not None, result)\n",
    "\n",
    "\n",
    "def fetchCallSigns(input):\n",
    "    \"\"\"Fetch call signs\"\"\"\n",
    "    return input.mapPartitions(lambda callSigns: processCallSigns(callSigns))\n",
    "\n",
    "contactsContactList = fetchCallSigns(validSigns)"
   ]
  },
  {
   "cell_type": "code",
   "execution_count": null,
   "metadata": {},
   "outputs": [],
   "source": []
  },
  {
   "cell_type": "markdown",
   "metadata": {},
   "source": [
    "### 數值RDD = 字串RDD.map(lambda string: float(String))"
   ]
  },
  {
   "cell_type": "code",
   "execution_count": 265,
   "metadata": {},
   "outputs": [
    {
     "data": {
      "text/plain": [
       "'\\nstats(StatsCounter\\xe7\\x89\\xa9\\xe4\\xbb\\xb6) = \\xe6\\x95\\xb8\\xe5\\x80\\xbcRDD.stats()\\nstats.count()\\nstats.mean()\\nstats.sum()\\nstats.max()\\nstats.min()\\nstats.variance()\\nstats.sampleVariance()\\nstats.stdev()\\nstats.sampleStdev()\\n'"
      ]
     },
     "execution_count": 265,
     "metadata": {},
     "output_type": "execute_result"
    }
   ],
   "source": [
    "\n",
    "#stats(StatsCounter物件) = 數值RDD.stats()\n",
    "stats.count()\n",
    "stats.mean()\n",
    "stats.sum()\n",
    "stats.max()\n",
    "stats.min()\n",
    "stats.variance()\n",
    "stats.sampleVariance()\n",
    "stats.stdev()\n",
    "stats.sampleStdev()\n"
   ]
  },
  {
   "cell_type": "code",
   "execution_count": null,
   "metadata": {},
   "outputs": [],
   "source": []
  }
 ],
 "metadata": {
  "kernelspec": {
   "display_name": "Python 2",
   "language": "python",
   "name": "python2"
  },
  "language_info": {
   "codemirror_mode": {
    "name": "ipython",
    "version": 2
   },
   "file_extension": ".py",
   "mimetype": "text/x-python",
   "name": "python",
   "nbconvert_exporter": "python",
   "pygments_lexer": "ipython2",
   "version": "2.7.14"
  }
 },
 "nbformat": 4,
 "nbformat_minor": 2
}
