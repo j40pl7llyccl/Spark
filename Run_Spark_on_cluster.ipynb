{
 "cells": [
  {
   "cell_type": "markdown",
   "metadata": {},
   "source": [
    "### spark Driver =>Cluster=>Cluster Worker"
   ]
  },
  {
   "cell_type": "code",
   "execution_count": 1,
   "metadata": {},
   "outputs": [],
   "source": [
    "#Driver=>main() :宣告sc,build RDD,\n",
    "#轉換和行動操做的程序,when Driver is over +>sparkis over"
   ]
  },
  {
   "cell_type": "markdown",
   "metadata": {},
   "source": [
    "### 1.將使用者程式轉換成多個任務\n",
    "### 2.將任務排程至執行器中"
   ]
  },
  {
   "cell_type": "markdown",
   "metadata": {},
   "source": [
    "### Executer =>1.執行任務並將結果傳給驅動器 2.提供記憶體級的儲存空間為每個RDD的快取空間"
   ]
  },
  {
   "cell_type": "code",
   "execution_count": null,
   "metadata": {},
   "outputs": [],
   "source": []
  },
  {
   "cell_type": "markdown",
   "metadata": {},
   "source": [
    "### Cluster 管理器 =>Spark 會依靠一個Cluster 管理器來啟動執行器。是一個可插入式的"
   ]
  },
  {
   "cell_type": "code",
   "execution_count": null,
   "metadata": {},
   "outputs": [],
   "source": []
  },
  {
   "cell_type": "code",
   "execution_count": null,
   "metadata": {},
   "outputs": [],
   "source": []
  },
  {
   "cell_type": "code",
   "execution_count": null,
   "metadata": {},
   "outputs": [],
   "source": [
    "### 總結\n",
    "1.spark-submit to passs a 應用程式\n",
    "2.spark-submit to run a Driver to wake up a user's main()\n",
    "3.Driver will call cluster to ask resources to executer\n",
    "4.cluster管理器代表著Driver 執行程式\n",
    "5.Driver will run to 依據 code's 定義\n",
    "6.job will be calculate and save in Execute\n",
    "7.if driver's main() is leave and Sc.stop() will turn back resource to cluster Manager"
   ]
  },
  {
   "cell_type": "code",
   "execution_count": 2,
   "metadata": {},
   "outputs": [],
   "source": [
    "./bin/spark-submit --master yarn \\\n",
    "--py-files package.py \\\n",
    "--deploy-mode client \\\n",
    "--name \"My Programmer\"\n",
    "--queue exampleQueue\n",
    "--num-executors 40\n",
    "my_scripts.py \"test to my pyspark file\""
   ]
  },
  {
   "cell_type": "markdown",
   "metadata": {},
   "source": [
    "## 套件相依性衝突 \n",
    "## 1. 修改應用程式,使其可以相依於Spark 2. 使用遮蔽的程式修改應用程式的套件"
   ]
  },
  {
   "cell_type": "code",
   "execution_count": null,
   "metadata": {},
   "outputs": [],
   "source": []
  },
  {
   "cell_type": "code",
   "execution_count": 5,
   "metadata": {},
   "outputs": [],
   "source": []
  },
  {
   "cell_type": "code",
   "execution_count": null,
   "metadata": {},
   "outputs": [],
   "source": []
  }
 ],
 "metadata": {
  "kernelspec": {
   "display_name": "Python 2",
   "language": "python",
   "name": "python2"
  },
  "language_info": {
   "codemirror_mode": {
    "name": "ipython",
    "version": 2
   },
   "file_extension": ".py",
   "mimetype": "text/x-python",
   "name": "python",
   "nbconvert_exporter": "python",
   "pygments_lexer": "ipython2",
   "version": "2.7.14"
  }
 },
 "nbformat": 4,
 "nbformat_minor": 2
}
