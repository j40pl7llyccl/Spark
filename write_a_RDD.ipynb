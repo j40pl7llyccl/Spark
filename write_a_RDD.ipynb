{
 "cells": [
  {
   "cell_type": "code",
   "execution_count": 1,
   "metadata": {},
   "outputs": [],
   "source": [
    "#Spark is auto put data in RDD to distribute to the cluster\n",
    "\n",
    "#RDD is a immutable distributed system"
   ]
  },
  {
   "cell_type": "code",
   "execution_count": null,
   "metadata": {},
   "outputs": [],
   "source": [
    "conf = SparkConf().setMaster(\"local\").setAppName(\"My App\") #local ==> to local 執行續\n",
    "sc = SparkContext(conf = conf)"
   ]
  },
  {
   "cell_type": "code",
   "execution_count": null,
   "metadata": {},
   "outputs": [],
   "source": [
    "#1. 載入外部資料 2. 在驅動程式中分派一個物件\n",
    "sc.stop()"
   ]
  },
  {
   "cell_type": "markdown",
   "metadata": {},
   "source": [
    "### 1."
   ]
  },
  {
   "cell_type": "code",
   "execution_count": null,
   "metadata": {},
   "outputs": [],
   "source": [
    "from pyspark import SparkConf, SparkContext\n",
    "\n",
    "inputRDD = sc.textFile(\"/home/jordan/Desktop/input.txt\")"
   ]
  },
  {
   "cell_type": "markdown",
   "metadata": {},
   "source": [
    "### 2."
   ]
  },
  {
   "cell_type": "code",
   "execution_count": 21,
   "metadata": {},
   "outputs": [],
   "source": [
    "lines = sc.parallelize([\"pandas\",\"i like pandas\"])"
   ]
  },
  {
   "cell_type": "code",
   "execution_count": 10,
   "metadata": {},
   "outputs": [],
   "source": [
    "# if build a RDD then have two thing can use:"
   ]
  },
  {
   "cell_type": "code",
   "execution_count": null,
   "metadata": {},
   "outputs": [],
   "source": []
  },
  {
   "cell_type": "code",
   "execution_count": 11,
   "metadata": {},
   "outputs": [],
   "source": [
    "pythonlines = lines.filter(lambda line: \"INFO\" in line)"
   ]
  },
  {
   "cell_type": "markdown",
   "metadata": {},
   "source": [
    "### Action()"
   ]
  },
  {
   "cell_type": "code",
   "execution_count": 12,
   "metadata": {},
   "outputs": [
    {
     "data": {
      "text/plain": [
       "u'INFO This is a message with content'"
      ]
     },
     "execution_count": 12,
     "metadata": {},
     "output_type": "execute_result"
    }
   ],
   "source": [
    "# in calucate of RDD ,it will return the 驅動程式 or save to outside save machine ex:HDFS\n",
    "pythonlines.first()"
   ]
  },
  {
   "cell_type": "code",
   "execution_count": 13,
   "metadata": {},
   "outputs": [],
   "source": [
    " #RDD is a lazy fashion only when they be action RDD will be calucate\n",
    "#預設 每次對RDD 執行一個行動操作,預設是要重新計算結果。if 要在多個行動中重複使用一個RDD,RDD.persist() RDD 將會放在記憶體中"
   ]
  },
  {
   "cell_type": "code",
   "execution_count": 14,
   "metadata": {},
   "outputs": [
    {
     "data": {
      "text/plain": [
       "PythonRDD[5] at RDD at PythonRDD.scala:48"
      ]
     },
     "execution_count": 14,
     "metadata": {},
     "output_type": "execute_result"
    }
   ],
   "source": [
    "pythonlines.persist()"
   ]
  },
  {
   "cell_type": "code",
   "execution_count": 15,
   "metadata": {},
   "outputs": [
    {
     "data": {
      "text/plain": [
       "4"
      ]
     },
     "execution_count": 15,
     "metadata": {},
     "output_type": "execute_result"
    }
   ],
   "source": [
    "pythonlines.count()"
   ]
  },
  {
   "cell_type": "code",
   "execution_count": 16,
   "metadata": {},
   "outputs": [
    {
     "data": {
      "text/plain": [
       "u'INFO This is a message with content'"
      ]
     },
     "execution_count": 16,
     "metadata": {},
     "output_type": "execute_result"
    }
   ],
   "source": [
    "pythonlines.first()"
   ]
  },
  {
   "cell_type": "markdown",
   "metadata": {},
   "source": [
    "# 流程"
   ]
  },
  {
   "cell_type": "code",
   "execution_count": null,
   "metadata": {},
   "outputs": [],
   "source": [
    "1. build RDD from outside data\n",
    "2. get new RDD from transcation actions. example:filter()\n",
    "3. save RDD by persist()\n",
    "4. 啟動平行化計算 by action like count() and first()"
   ]
  },
  {
   "cell_type": "code",
   "execution_count": null,
   "metadata": {},
   "outputs": [],
   "source": []
  },
  {
   "cell_type": "code",
   "execution_count": 36,
   "metadata": {},
   "outputs": [],
   "source": [
    "# Transformations \n",
    "warningsRDD = inputRDD.filter(lambda x: \"WARN\" in x)\n",
    "errorsRDD = inputRDD.filter(lambda x: \"ERROR\" in x)"
   ]
  },
  {
   "cell_type": "code",
   "execution_count": 37,
   "metadata": {},
   "outputs": [],
   "source": [
    "#union warn and errors\n",
    "badLinesRDD = errorsRDD.union(warningsRDD)"
   ]
  },
  {
   "cell_type": "code",
   "execution_count": 38,
   "metadata": {},
   "outputs": [
    {
     "data": {
      "text/plain": [
       "UnionRDD[4] at union at NativeMethodAccessorImpl.java:0"
      ]
     },
     "execution_count": 38,
     "metadata": {},
     "output_type": "execute_result"
    }
   ],
   "source": [
    "badLinesRDD"
   ]
  },
  {
   "cell_type": "code",
   "execution_count": 42,
   "metadata": {},
   "outputs": [
    {
     "name": "stdout",
     "output_type": "stream",
     "text": [
      "Input had 3 concerning lines\n",
      "Here are 10 examples:\n",
      "------\n",
      "ERROR Something bad happened\n",
      "WARN This is a warning\n"
     ]
    }
   ],
   "source": [
    "# Actions\n",
    "print \"Input had \" + str(badLinesRDD.count()) + \" concerning lines\"\n",
    "print \"Here are 10 examples:\"\n",
    "print(\"------\")\n",
    "for line in badLinesRDD.take(2):\n",
    "    print line"
   ]
  },
  {
   "cell_type": "code",
   "execution_count": 41,
   "metadata": {},
   "outputs": [
    {
     "name": "stdout",
     "output_type": "stream",
     "text": [
      "ERROR Something bad happened\n",
      "WARN This is a warning\n",
      "WARN More details on the bad thing\n"
     ]
    }
   ],
   "source": [
    "for line in badLinesRDD.collect(): #collect() get the one whole RDD, need to be inside the computer,is not useful to put in a big data\n",
    "    print line"
   ]
  },
  {
   "cell_type": "code",
   "execution_count": 43,
   "metadata": {},
   "outputs": [],
   "source": [
    "### 大資料不適合用collect(),會被寫到一個分散式儲存系統 example: saveAsTextFile() 和 saveAsSequenceFile()"
   ]
  },
  {
   "cell_type": "markdown",
   "metadata": {},
   "source": [
    "### 慵懶評估"
   ]
  },
  {
   "cell_type": "code",
   "execution_count": null,
   "metadata": {},
   "outputs": [],
   "source": []
  },
  {
   "cell_type": "code",
   "execution_count": null,
   "metadata": {},
   "outputs": [],
   "source": []
  },
  {
   "cell_type": "markdown",
   "metadata": {},
   "source": [
    "### pass func to Spark"
   ]
  },
  {
   "cell_type": "code",
   "execution_count": null,
   "metadata": {},
   "outputs": [],
   "source": [
    "1. word = rdd.filter(lambda s: \"error\" in s)\n",
    "\n",
    "2. def containsError(s):\n",
    "    return \"error\" in s\n",
    "3. word = rdd.filter(contains)"
   ]
  },
  {
   "cell_type": "code",
   "execution_count": null,
   "metadata": {},
   "outputs": [],
   "source": []
  },
  {
   "cell_type": "markdown",
   "metadata": {},
   "source": [
    "### 傳遞函式時會序列化包含該函式的物件,spark會傳送整個物件到工作節點,而你只需要整個物件的某一小部分而已"
   ]
  },
  {
   "cell_type": "code",
   "execution_count": null,
   "metadata": {},
   "outputs": [],
   "source": [
    "class SearchFunctions(object):\n",
    "    def __init__(self, query):\n",
    "        self.query = query\n",
    "    def isMatch(self, s):\n",
    "        return self.query in s\n",
    "    def getMatchesFunctionReference(self, rdd):\n",
    "        #problem is \"self.isMatch\" is base on all \"self\"\n",
    "        return rdd.filter(self.isMatch)\n",
    "    "
   ]
  },
  {
   "cell_type": "code",
   "execution_count": 44,
   "metadata": {},
   "outputs": [],
   "source": [
    "### correct one is \n",
    "class SearchFunctions(object):\n",
    "    ''''''\n",
    "    def getMatchesFunctionReference(self, rdd):\n",
    "        query = self.query\n",
    "        return rdd.filter(lambda x: query in x)"
   ]
  },
  {
   "cell_type": "code",
   "execution_count": null,
   "metadata": {},
   "outputs": [],
   "source": []
  },
  {
   "cell_type": "code",
   "execution_count": 45,
   "metadata": {},
   "outputs": [
    {
     "name": "stdout",
     "output_type": "stream",
     "text": [
      "4 \n",
      "9 \n",
      "16 \n",
      "25 \n",
      "36 \n"
     ]
    }
   ],
   "source": [
    "### map() 會取得一個函式,並將其應用於RDD中的每一個元素 > 回傳型態不需與輸入型態相同 ==> 許多串列的RDD\n",
    "nums = sc.parallelize([2, 3, 4, 5, 6])\n",
    "squared = nums.map(lambda x: x * x).collect()\n",
    "for num in squared:\n",
    "    print \"%i \" %(num)"
   ]
  },
  {
   "cell_type": "code",
   "execution_count": 46,
   "metadata": {},
   "outputs": [
    {
     "data": {
      "text/plain": [
       "[4, 9, 16, 25, 36]"
      ]
     },
     "execution_count": 46,
     "metadata": {},
     "output_type": "execute_result"
    }
   ],
   "source": [
    "squared"
   ]
  },
  {
   "cell_type": "code",
   "execution_count": 47,
   "metadata": {},
   "outputs": [
    {
     "data": {
      "text/plain": [
       "['hello', 'world', 'hi']"
      ]
     },
     "execution_count": 47,
     "metadata": {},
     "output_type": "execute_result"
    }
   ],
   "source": [
    "### flatMap() 作用於RDD每個元素上, 回傳一個內含所有回傳值的迭代器 ==> 所有串列的元素集合\n",
    "lines = sc.parallelize([\"hello world\", \"hi\"])\n",
    "words = lines.flatMap(lambda line: line.split(\" \"))\n",
    "words.collect()"
   ]
  },
  {
   "cell_type": "code",
   "execution_count": null,
   "metadata": {},
   "outputs": [],
   "source": [
    "\n",
    "flatMap()and map() differ \n",
    "rdd = {\"coffee panda\",\"happy panda\"}\n",
    "maprdd = {[\"coffee\",\"panda\"],[\"happy\",\"panda\"]}\n",
    "flatrdd = {\"coffee\",\"panda\",\"happy\",\"panda\"}"
   ]
  },
  {
   "cell_type": "markdown",
   "metadata": {},
   "source": [
    "## 以下RDD 需相同型別"
   ]
  },
  {
   "cell_type": "markdown",
   "metadata": {},
   "source": [
    "### union(RDD) (if 有資料副本,結果也會包含副本資料需要透過distinct()修正)\n",
    "\n",
    "### intersection(RDD) (效率會差很多,必須跨網路進行洗牌,以變識副本)\n",
    "\n",
    "### subtract(RDD)\n",
    "\n",
    "### cartesian(RDD) (對大型RDD操作非常昂貴)"
   ]
  },
  {
   "cell_type": "code",
   "execution_count": 48,
   "metadata": {},
   "outputs": [
    {
     "data": {
      "text/plain": [
       "PythonRDD[25] at RDD at PythonRDD.scala:48"
      ]
     },
     "execution_count": 48,
     "metadata": {},
     "output_type": "execute_result"
    }
   ],
   "source": [
    "intersection = errorsRDD.intersection(warningsRDD)\n",
    "intersection"
   ]
  },
  {
   "cell_type": "code",
   "execution_count": 49,
   "metadata": {},
   "outputs": [
    {
     "data": {
      "text/plain": [
       "[]"
      ]
     },
     "execution_count": 49,
     "metadata": {},
     "output_type": "execute_result"
    }
   ],
   "source": [
    "intersection.collect()"
   ]
  },
  {
   "cell_type": "code",
   "execution_count": 51,
   "metadata": {},
   "outputs": [
    {
     "data": {
      "text/plain": [
       "[u'WARN More details on the bad thing', u'WARN This is a warning']"
      ]
     },
     "execution_count": 51,
     "metadata": {},
     "output_type": "execute_result"
    }
   ],
   "source": [
    "inputRDD.intersection(warningsRDD).collect()"
   ]
  },
  {
   "cell_type": "code",
   "execution_count": 52,
   "metadata": {},
   "outputs": [
    {
     "data": {
      "text/plain": [
       "[u'INFO This is a message with content',\n",
       " u'ERROR Something bad happened',\n",
       " u'INFO Here are more messages',\n",
       " u'(empty line)',\n",
       " u'(empty line)',\n",
       " u'INFO back to normal messages',\n",
       " u'INFO This is a some other content']"
      ]
     },
     "execution_count": 52,
     "metadata": {},
     "output_type": "execute_result"
    }
   ],
   "source": [
    "inputRDD.subtract(warningsRDD).collect()"
   ]
  },
  {
   "cell_type": "code",
   "execution_count": 54,
   "metadata": {},
   "outputs": [
    {
     "data": {
      "text/plain": [
       "[(u'ERROR Something bad happened', u'WARN This is a warning'),\n",
       " (u'ERROR Something bad happened', u'WARN More details on the bad thing')]"
      ]
     },
     "execution_count": 54,
     "metadata": {},
     "output_type": "execute_result"
    }
   ],
   "source": [
    "errorsRDD.cartesian(warningsRDD).collect()"
   ]
  },
  {
   "cell_type": "markdown",
   "metadata": {},
   "source": [
    "### reduce()"
   ]
  },
  {
   "cell_type": "code",
   "execution_count": 55,
   "metadata": {},
   "outputs": [],
   "source": [
    "\n",
    "rdd = sc.parallelize([2, 3, 4, 5, 6])"
   ]
  },
  {
   "cell_type": "code",
   "execution_count": 61,
   "metadata": {},
   "outputs": [
    {
     "data": {
      "text/plain": [
       "20"
      ]
     },
     "execution_count": 61,
     "metadata": {},
     "output_type": "execute_result"
    }
   ],
   "source": [
    "y = 1\n",
    "rdd.reduce(lambda x, y:x+ y)"
   ]
  },
  {
   "cell_type": "code",
   "execution_count": 62,
   "metadata": {},
   "outputs": [
    {
     "name": "stdout",
     "output_type": "stream",
     "text": [
      "sum is  20\n"
     ]
    }
   ],
   "source": [
    "print \"sum is \",rdd.reduce(lambda x, y:x+ y)"
   ]
  },
  {
   "cell_type": "code",
   "execution_count": 64,
   "metadata": {},
   "outputs": [],
   "source": [
    "### aggregate() 免於回傳相同型別RDD限制 to return a value of pair"
   ]
  },
  {
   "cell_type": "code",
   "execution_count": 66,
   "metadata": {},
   "outputs": [],
   "source": [
    "sumCount = rdd.aggregate((0, 0),\n",
    "                        (lambda acc, value: (acc[0] + value, acc[1] + 1)),\n",
    "                        (lambda acc1, acc2: (acc1[0] + acc2[0], acc1[1] + acc2[1])))\n"
   ]
  },
  {
   "cell_type": "code",
   "execution_count": 70,
   "metadata": {},
   "outputs": [
    {
     "data": {
      "text/plain": [
       "4.0"
      ]
     },
     "execution_count": 70,
     "metadata": {},
     "output_type": "execute_result"
    }
   ],
   "source": [
    "sumCount[0]/float(sumCount[1])"
   ]
  },
  {
   "cell_type": "markdown",
   "metadata": {},
   "source": [
    "### take(n) => return n element,try te read 最少分割,可能不會按照預期順序回傳元素\n",
    "\n",
    "### top() => return 預期順序回傳元素\n",
    "\n",
    "### foreach() => 對RDD中的每個元素執行行動操作,但不回傳任何值\n"
   ]
  },
  {
   "cell_type": "markdown",
   "metadata": {},
   "source": [
    "### persist() 在python中 當寫入到硬碟和非heap 的記憶體區段 這些資料是被序列化的"
   ]
  },
  {
   "cell_type": "code",
   "execution_count": 71,
   "metadata": {},
   "outputs": [],
   "source": [
    "sc.stop()"
   ]
  },
  {
   "cell_type": "code",
   "execution_count": null,
   "metadata": {},
   "outputs": [],
   "source": []
  }
 ],
 "metadata": {
  "kernelspec": {
   "display_name": "Python 2",
   "language": "python",
   "name": "python2"
  },
  "language_info": {
   "codemirror_mode": {
    "name": "ipython",
    "version": 2
   },
   "file_extension": ".py",
   "mimetype": "text/x-python",
   "name": "python",
   "nbconvert_exporter": "python",
   "pygments_lexer": "ipython2",
   "version": "2.7.14"
  }
 },
 "nbformat": 4,
 "nbformat_minor": 2
}
